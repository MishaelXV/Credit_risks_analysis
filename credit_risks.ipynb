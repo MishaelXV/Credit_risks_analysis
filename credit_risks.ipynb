{
 "cells": [
  {
   "cell_type": "markdown",
   "metadata": {
    "tags": []
   },
   "source": [
    "## **Описание проекта: оценка рисков невозврата кредита**\n",
    "\n",
    "В вашем распоряжении данные клиентов банка «Скрудж», которые планируют взять кредит. Вам необходимо выяснить, что из имеющихся данных влияет на своевременное погашение кредита и каким именно образом.\n",
    "\n",
    "Исследование поможет в создании модели кредитного скоринга — системы для оценки способности потенциального заёмщика погасить свой кредит.\n",
    "\n",
    "По каждому клиенту есть информация о его семейном положении, образовании, доходе и другие данные. Вам предстоит подготовить данные к анализу и исследовать их, в процессе отвечая на вопросы.\n",
    "\n",
    "### Цель работы\n",
    "- Провести анализ анализ данных клиентов банка «Скрудж»;\n",
    "- Исследоватать определённые факторы, влияющие на своевременную оплату кредита, и сделать общие выводы;\n",
    "- Проверить две исследовательские гипотезы.\n",
    "### План работы\n",
    "\n",
    "- Изучить общую информацию о датафрейме;\n",
    "- Выполнить предобработку данных;\n",
    "- Провести исследовательский анализ данных;\n",
    "- Проверить гипотезы;\n",
    "- Составить выводы исследования.\n",
    "### Описание данных\n",
    "\n",
    "- `children` — количество детей в семье;\n",
    "- `days_employed` — сколько дней работает клиент;\n",
    "- `dob_years` — возраст клиента;\n",
    "- `education` — уровень образования клиента;\n",
    "- `education_id` — идентификатор образования клиента;\n",
    "- `family_status` — семейное положение клиента;\n",
    "- `family_status_id` — идентификатор семейного положения клиента;\n",
    "- `gender` — пол клиента;\n",
    "- `income_type` — тип дохода клиента;\n",
    "- `debt` — был ли у клиента когда-либо просрочен платёж по кредиту;\n",
    "- `total_income` — ежемесячный доход;\n",
    "- `purpose` — причина оформления кредита.\n",
    "\n"
   ]
  },
  {
   "cell_type": "markdown",
   "metadata": {
    "tags": []
   },
   "source": [
    "\n",
    "## Шаг 1. Общая информация\n",
    "\n",
    "\n",
    "\n"
   ]
  },
  {
   "cell_type": "code",
   "execution_count": 2,
   "metadata": {
    "tags": []
   },
   "outputs": [],
   "source": [
    "import pandas as pd\n",
    "import numpy as np\n",
    "import matplotlib.pyplot as plt\n",
    "import seaborn as sns"
   ]
  },
  {
   "cell_type": "code",
   "execution_count": 3,
   "metadata": {
    "tags": []
   },
   "outputs": [
    {
     "name": "stdout",
     "output_type": "stream",
     "text": [
      "   children  days_employed  dob_years            education  education_id  \\\n",
      "0         1   -8437.673028         42    bachelor's degree             0   \n",
      "1         1   -4024.803754         36  secondary education             1   \n",
      "2         0   -5623.422610         33  Secondary Education             1   \n",
      "3         3   -4124.747207         32  secondary education             1   \n",
      "4         0  340266.072047         53  secondary education             1   \n",
      "\n",
      "       family_status  family_status_id gender income_type  debt  total_income  \\\n",
      "0            married                 0      F    employee     0     40620.102   \n",
      "1            married                 0      F    employee     0     17932.802   \n",
      "2            married                 0      M    employee     0     23341.752   \n",
      "3            married                 0      M    employee     0     42820.568   \n",
      "4  civil partnership                 1      F     retiree     0     25378.572   \n",
      "\n",
      "                   purpose  \n",
      "0    purchase of the house  \n",
      "1             car purchase  \n",
      "2    purchase of the house  \n",
      "3  supplementary education  \n",
      "4        to have a wedding  \n"
     ]
    }
   ],
   "source": [
    "df_raw = pd.read_csv('/datasets/credit_scoring_eng.csv')\n",
    "print(df_raw.head())"
   ]
  },
  {
   "cell_type": "code",
   "execution_count": 382,
   "metadata": {
    "tags": []
   },
   "outputs": [],
   "source": [
    "df = df_raw.copy()"
   ]
  },
  {
   "cell_type": "code",
   "execution_count": 383,
   "metadata": {
    "tags": []
   },
   "outputs": [
    {
     "name": "stdout",
     "output_type": "stream",
     "text": [
      "<class 'pandas.core.frame.DataFrame'>\n",
      "RangeIndex: 21525 entries, 0 to 21524\n",
      "Data columns (total 12 columns):\n",
      " #   Column            Non-Null Count  Dtype  \n",
      "---  ------            --------------  -----  \n",
      " 0   children          21525 non-null  int64  \n",
      " 1   days_employed     19351 non-null  float64\n",
      " 2   dob_years         21525 non-null  int64  \n",
      " 3   education         21525 non-null  object \n",
      " 4   education_id      21525 non-null  int64  \n",
      " 5   family_status     21525 non-null  object \n",
      " 6   family_status_id  21525 non-null  int64  \n",
      " 7   gender            21525 non-null  object \n",
      " 8   income_type       21525 non-null  object \n",
      " 9   debt              21525 non-null  int64  \n",
      " 10  total_income      19351 non-null  float64\n",
      " 11  purpose           21525 non-null  object \n",
      "dtypes: float64(2), int64(5), object(5)\n",
      "memory usage: 2.0+ MB\n",
      "None\n"
     ]
    }
   ],
   "source": [
    "print(df.info())"
   ]
  },
  {
   "cell_type": "markdown",
   "metadata": {},
   "source": [
    "Датафрейм содержит 21525 срок и 12 столбцов. Данные представлены в трёх типах: int, float, object. Заметно, что стоолбцы dob_years и total_income содержат пропуски."
   ]
  },
  {
   "cell_type": "markdown",
   "metadata": {
    "tags": []
   },
   "source": [
    "\n",
    "## Шаг 2. Предобработка данных\n",
    "\n"
   ]
  },
  {
   "cell_type": "code",
   "execution_count": 384,
   "metadata": {
    "tags": []
   },
   "outputs": [
    {
     "name": "stdout",
     "output_type": "stream",
     "text": [
      "children               0\n",
      "days_employed       2174\n",
      "dob_years              0\n",
      "education              0\n",
      "education_id           0\n",
      "family_status          0\n",
      "family_status_id       0\n",
      "gender                 0\n",
      "income_type            0\n",
      "debt                   0\n",
      "total_income        2174\n",
      "purpose                0\n",
      "dtype: int64\n"
     ]
    }
   ],
   "source": [
    "print(df.isna().sum())"
   ]
  },
  {
   "cell_type": "markdown",
   "metadata": {},
   "source": [
    "В полученном датафрейме только два столбца days_employed и total_income содержат пропуски"
   ]
  },
  {
   "cell_type": "code",
   "execution_count": 385,
   "metadata": {},
   "outputs": [
    {
     "name": "stdout",
     "output_type": "stream",
     "text": [
      "children             0.0%\n",
      "days_employed       10.1%\n",
      "dob_years            0.0%\n",
      "education            0.0%\n",
      "education_id         0.0%\n",
      "family_status        0.0%\n",
      "family_status_id     0.0%\n",
      "gender               0.0%\n",
      "income_type          0.0%\n",
      "debt                 0.0%\n",
      "total_income        10.1%\n",
      "purpose              0.0%\n",
      "dtype: object\n"
     ]
    }
   ],
   "source": [
    "print(df.isna().mean().apply(lambda x: f'{x:.1%}')) "
   ]
  },
  {
   "cell_type": "code",
   "execution_count": 386,
   "metadata": {
    "tags": []
   },
   "outputs": [
    {
     "name": "stdout",
     "output_type": "stream",
     "text": [
      "0         -8437.673028\n",
      "1         -4024.803754\n",
      "2         -5623.422610\n",
      "3         -4124.747207\n",
      "4        340266.072047\n",
      "             ...      \n",
      "21520     -4529.316663\n",
      "21521    343937.404131\n",
      "21522     -2113.346888\n",
      "21523     -3112.481705\n",
      "21524     -1984.507589\n",
      "Name: days_employed, Length: 21525, dtype: float64\n"
     ]
    }
   ],
   "source": [
    "print(df['days_employed'])"
   ]
  },
  {
   "cell_type": "markdown",
   "metadata": {},
   "source": [
    "Пропуски составляют 10% от общего количества, что довольно много. \n",
    "Следовательно, если просто их удалить, потеряется большой объём данных. Логичнее заменить пропуски на 0, так пропуск будет означать , что клиент ещё не работал."
   ]
  },
  {
   "cell_type": "code",
   "execution_count": 387,
   "metadata": {},
   "outputs": [
    {
     "name": "stdout",
     "output_type": "stream",
     "text": [
      "       days_employed  total_income\n",
      "0       -8437.673028     40620.102\n",
      "1       -4024.803754     17932.802\n",
      "2       -5623.422610     23341.752\n",
      "3       -4124.747207     42820.568\n",
      "4      340266.072047     25378.572\n",
      "...              ...           ...\n",
      "21520   -4529.316663     35966.698\n",
      "21521  343937.404131     24959.969\n",
      "21522   -2113.346888     14347.610\n",
      "21523   -3112.481705     39054.888\n",
      "21524   -1984.507589     13127.587\n",
      "\n",
      "[21525 rows x 2 columns]\n",
      "children            0.0%\n",
      "days_employed       0.0%\n",
      "dob_years           0.0%\n",
      "education           0.0%\n",
      "education_id        0.0%\n",
      "family_status       0.0%\n",
      "family_status_id    0.0%\n",
      "gender              0.0%\n",
      "income_type         0.0%\n",
      "debt                0.0%\n",
      "total_income        0.0%\n",
      "purpose             0.0%\n",
      "dtype: object\n"
     ]
    }
   ],
   "source": [
    "df.fillna(0, inplace=True)\n",
    "print(df[['days_employed', 'total_income']])\n",
    "print(df.isna().mean().apply(lambda x: f'{x:.1%}')) "
   ]
  },
  {
   "cell_type": "markdown",
   "metadata": {},
   "source": [
    "Помимо этого, столбец days_employed имеет много отрицательных значений. Это можно трактовать по разному: отрицательное значение может указывать на то, что клиент ещё не работал, либо на то, что это ошибка в данных, и минусов там быть не должно. "
   ]
  },
  {
   "cell_type": "markdown",
   "metadata": {
    "tags": []
   },
   "source": [
    "\n",
    "1. Изучим уникальные значения в столбцах с уровнем образования (`education`) и полом клиента (`gender`). \n",
    "2. Устраним неявные дубликаты и некорректные значения.\n",
    "\n"
   ]
  },
  {
   "cell_type": "code",
   "execution_count": 388,
   "metadata": {
    "tags": []
   },
   "outputs": [
    {
     "name": "stdout",
     "output_type": "stream",
     "text": [
      "[\"bachelor's degree\" 'secondary education' 'Secondary Education'\n",
      " 'SECONDARY EDUCATION' \"BACHELOR'S DEGREE\" 'some college'\n",
      " 'primary education' \"Bachelor's Degree\" 'SOME COLLEGE' 'Some College'\n",
      " 'PRIMARY EDUCATION' 'Primary Education' 'Graduate Degree'\n",
      " 'GRADUATE DEGREE' 'graduate degree'] ['F' 'M' 'XNA']\n"
     ]
    }
   ],
   "source": [
    "print(df['education'].unique(), df['gender'].unique())"
   ]
  },
  {
   "cell_type": "code",
   "execution_count": 389,
   "metadata": {},
   "outputs": [
    {
     "name": "stdout",
     "output_type": "stream",
     "text": [
      "[\"bachelor's degree\" 'secondary education' 'some college'\n",
      " 'primary education' 'graduate degree']\n"
     ]
    }
   ],
   "source": [
    "df['education'] = df['education'].str.lower()\n",
    "print(df['education'].unique())"
   ]
  },
  {
   "cell_type": "markdown",
   "metadata": {
    "tags": []
   },
   "source": [
    "Проверим наличие дубликатов."
   ]
  },
  {
   "cell_type": "code",
   "execution_count": 390,
   "metadata": {
    "tags": []
   },
   "outputs": [
    {
     "name": "stdout",
     "output_type": "stream",
     "text": [
      "       children  days_employed  dob_years            education  education_id  \\\n",
      "2849          0            0.0         41  secondary education             1   \n",
      "3290          0            0.0         58  secondary education             1   \n",
      "4182          1            0.0         34    bachelor's degree             0   \n",
      "4851          0            0.0         60  secondary education             1   \n",
      "5557          0            0.0         58  secondary education             1   \n",
      "...         ...            ...        ...                  ...           ...   \n",
      "20702         0            0.0         64  secondary education             1   \n",
      "21032         0            0.0         60  secondary education             1   \n",
      "21132         0            0.0         47  secondary education             1   \n",
      "21281         1            0.0         30    bachelor's degree             0   \n",
      "21415         0            0.0         54  secondary education             1   \n",
      "\n",
      "           family_status  family_status_id gender income_type  debt  \\\n",
      "2849             married                 0      F    employee     0   \n",
      "3290   civil partnership                 1      F     retiree     0   \n",
      "4182   civil partnership                 1      F    employee     0   \n",
      "4851   civil partnership                 1      F     retiree     0   \n",
      "5557   civil partnership                 1      F     retiree     0   \n",
      "...                  ...               ...    ...         ...   ...   \n",
      "20702            married                 0      F     retiree     0   \n",
      "21032            married                 0      F     retiree     0   \n",
      "21132            married                 0      F    employee     0   \n",
      "21281            married                 0      F    employee     0   \n",
      "21415            married                 0      F     retiree     0   \n",
      "\n",
      "       total_income                              purpose  \n",
      "2849            0.0  purchase of the house for my family  \n",
      "3290            0.0                    to have a wedding  \n",
      "4182            0.0                     wedding ceremony  \n",
      "4851            0.0                     wedding ceremony  \n",
      "5557            0.0                    to have a wedding  \n",
      "...             ...                                  ...  \n",
      "20702           0.0              supplementary education  \n",
      "21032           0.0                   to become educated  \n",
      "21132           0.0                   housing renovation  \n",
      "21281           0.0           buy commercial real estate  \n",
      "21415           0.0                 housing transactions  \n",
      "\n",
      "[71 rows x 12 columns]\n"
     ]
    }
   ],
   "source": [
    "print(df[df.duplicated()])"
   ]
  },
  {
   "cell_type": "markdown",
   "metadata": {},
   "source": [
    "Это явные дубликаты, их можно удалить из датафрейма"
   ]
  },
  {
   "cell_type": "code",
   "execution_count": 391,
   "metadata": {},
   "outputs": [],
   "source": [
    "df = df.drop_duplicates()"
   ]
  },
  {
   "cell_type": "markdown",
   "metadata": {
    "tags": []
   },
   "source": [
    "\n",
    "## Шаг 3. Выбросы и аномальные значения\n",
    "\n",
    "Изучите столбцы `total_income`, `dob_age`, `chidlren` на наличие выбросов и аномальных значений, в том числе при помощи графиков. Если выбросы или аномалии будут обнаружены — обоснованно примите решение об их судьбе. Используйте подзаголовки третьего уровня (`### Подзаголовок`), чтобы создать структуру действий в рамках этого шага.\n",
    "\n"
   ]
  },
  {
   "cell_type": "code",
   "execution_count": 392,
   "metadata": {
    "tags": []
   },
   "outputs": [
    {
     "name": "stdout",
     "output_type": "stream",
     "text": [
      "        total_income     dob_years      children\n",
      "count   21454.000000  21454.000000  21454.000000\n",
      "mean    24161.752365     43.271231      0.539946\n",
      "std     17557.873237     12.570822      1.383444\n",
      "min         0.000000      0.000000     -1.000000\n",
      "25%     14254.247000     33.000000      0.000000\n",
      "50%     21724.967000     42.000000      0.000000\n",
      "75%     31330.237250     53.000000      1.000000\n",
      "max    362496.645000     75.000000     20.000000\n"
     ]
    }
   ],
   "source": [
    "print(df[['total_income', 'dob_years', 'children']].describe())"
   ]
  },
  {
   "cell_type": "markdown",
   "metadata": {},
   "source": [
    "В столбцах уже видны аномально высокие максимальные значения. Помимо этого, в столбце children, отвечающим за количество детей заметно минимальное значение, равное -1, что явно является ошибкой в данных. Посмотрим данные на графиках. "
   ]
  },
  {
   "cell_type": "code",
   "execution_count": 393,
   "metadata": {},
   "outputs": [
    {
     "data": {
      "image/png": "[encoded data removed]",
      "text/plain": [
       "<Figure size 576x432 with 1 Axes>"
      ]
     },
     "metadata": {},
     "output_type": "display_data"
    }
   ],
   "source": [
    "plt.figure(figsize = (8,6))\n",
    "sns.set(style=\"whitegrid\", palette=\"muted\")\n",
    "sns.boxplot(data = df, x = 'total_income')\n",
    "plt.title('Диаграмма размаха значений ежемесячного дохода')\n",
    "plt.xlabel('Ежемесячный доход клиента')\n",
    "plt.show()"
   ]
  },
  {
   "cell_type": "markdown",
   "metadata": {},
   "source": [
    "По графику видно, что есть глобальные выбросы с высокими значениями стоимости. При этом левая граница диаграммы размаха находится в районе нуля."
   ]
  },
  {
   "cell_type": "code",
   "execution_count": 394,
   "metadata": {},
   "outputs": [
    {
     "data": {
      "image/png": "[encoded data removed]",
      "text/plain": [
       "<Figure size 864x288 with 1 Axes>"
      ]
     },
     "metadata": {},
     "output_type": "display_data"
    }
   ],
   "source": [
    "plt.figure(figsize = (12, 4))\n",
    "sns.set(style=\"whitegrid\", palette=\"muted\")\n",
    "sns.histplot(data = df, x = 'total_income')\n",
    "plt.title('Распределение клиентво по ежемесячному доходу')\n",
    "plt.ylabel('Количество клиентов')\n",
    "plt.xlabel('Ежемесячный доход клиента')\n",
    "plt.show()"
   ]
  },
  {
   "cell_type": "markdown",
   "metadata": {},
   "source": [
    "На гистограмме наблюдается пик нулевых значений. "
   ]
  },
  {
   "cell_type": "code",
   "execution_count": 395,
   "metadata": {},
   "outputs": [
    {
     "data": {
      "image/png": "[encoded data removed]",
      "text/plain": [
       "<Figure size 576x432 with 1 Axes>"
      ]
     },
     "metadata": {},
     "output_type": "display_data"
    }
   ],
   "source": [
    "sns.set(style=\"whitegrid\", palette=\"muted\")\n",
    "plt.figure(figsize = (8, 6))\n",
    "sns.boxplot(data = df, x = 'dob_years')\n",
    "plt.title('Диаграмма размаха значений ежемесячного дохода')\n",
    "plt.xlabel('Возраст клиента')\n",
    "plt.show()"
   ]
  },
  {
   "cell_type": "markdown",
   "metadata": {},
   "source": [
    "На графике видно аномальное значение 0, что явно является ошибкой в данных. В остальном данные корректные: средний возраст клиентов банка чуть больше 40 лет, выбросов нет."
   ]
  },
  {
   "cell_type": "code",
   "execution_count": 396,
   "metadata": {},
   "outputs": [
    {
     "data": {
      "image/png": "[encoded data removed]",
      "text/plain": [
       "<Figure size 864x288 with 1 Axes>"
      ]
     },
     "metadata": {},
     "output_type": "display_data"
    }
   ],
   "source": [
    "sns.set(style=\"whitegrid\", palette=\"muted\")\n",
    "plt.figure(figsize = (12, 4))\n",
    "sns.histplot(data = df.query('dob_years > 0'), x = 'dob_years')\n",
    "plt.title('Распределение клиентов по возрастам')\n",
    "plt.ylabel('Количество клиентов')\n",
    "plt.xlabel('Возраст клиента')\n",
    "plt.show()"
   ]
  },
  {
   "cell_type": "code",
   "execution_count": 397,
   "metadata": {},
   "outputs": [
    {
     "data": {
      "image/png": "[encoded data removed]",
      "text/plain": [
       "<Figure size 576x432 with 1 Axes>"
      ]
     },
     "metadata": {},
     "output_type": "display_data"
    }
   ],
   "source": [
    "sns.set(style=\"whitegrid\", palette=\"muted\")\n",
    "plt.figure(figsize = (8,6))\n",
    "sns.boxplot(data = df, x = 'children')\n",
    "plt.title('Диаграмма размаха количества детей в семье')\n",
    "plt.xlabel('Количество детей в семье')\n",
    "plt.show()"
   ]
  },
  {
   "cell_type": "code",
   "execution_count": 398,
   "metadata": {},
   "outputs": [
    {
     "data": {
      "image/png": "[encoded data removed]",
      "text/plain": [
       "<Figure size 864x288 with 1 Axes>"
      ]
     },
     "metadata": {},
     "output_type": "display_data"
    }
   ],
   "source": [
    "sns.set(style=\"whitegrid\", palette=\"muted\")\n",
    "plt.figure(figsize = (12, 4))\n",
    "sns.histplot(data = df.query('children >= 0 and children <= 5'), x = 'children')\n",
    "plt.xlabel('Количество детей в семь')\n",
    "plt.ylabel('Количество клиентов')\n",
    "plt.title('Распределение клиентов по количеству детей в семье')\n",
    "plt.show()"
   ]
  },
  {
   "cell_type": "markdown",
   "metadata": {},
   "source": [
    "На гистрограмме видно, что преобладают клиенты без детей."
   ]
  },
  {
   "cell_type": "markdown",
   "metadata": {},
   "source": [
    "Предлагается отфильтровать аномалии следующим образом: в столбце total_income отфильтровать значения выше 99 перцентиля, в столбце dob_yers нулевые значения, в столбце children отрицательные значения и значения выше 4."
   ]
  },
  {
   "cell_type": "code",
   "execution_count": 399,
   "metadata": {},
   "outputs": [
    {
     "name": "stdout",
     "output_type": "stream",
     "text": [
      "<class 'pandas.core.frame.DataFrame'>\n",
      "Int64Index: 21007 entries, 0 to 21524\n",
      "Data columns (total 12 columns):\n",
      " #   Column            Non-Null Count  Dtype  \n",
      "---  ------            --------------  -----  \n",
      " 0   children          21007 non-null  int64  \n",
      " 1   days_employed     21007 non-null  float64\n",
      " 2   dob_years         21007 non-null  int64  \n",
      " 3   education         21007 non-null  object \n",
      " 4   education_id      21007 non-null  int64  \n",
      " 5   family_status     21007 non-null  object \n",
      " 6   family_status_id  21007 non-null  int64  \n",
      " 7   gender            21007 non-null  object \n",
      " 8   income_type       21007 non-null  object \n",
      " 9   debt              21007 non-null  int64  \n",
      " 10  total_income      21007 non-null  float64\n",
      " 11  purpose           21007 non-null  object \n",
      "dtypes: float64(2), int64(5), object(5)\n",
      "memory usage: 2.1+ MB\n"
     ]
    }
   ],
   "source": [
    "percentile_99 = df['total_income'].quantile(0.99)\n",
    "query_string = f\"dob_years > 0 and children >= 0 and children <= 4 and total_income < {percentile_99}\"\n",
    "df = df.query(query_string)\n",
    "df.info()"
   ]
  },
  {
   "cell_type": "markdown",
   "metadata": {
    "tags": []
   },
   "source": [
    "\n",
    "## Шаг 4. Разделение клиентов\n",
    "\n"
   ]
  },
  {
   "cell_type": "markdown",
   "metadata": {
    "tags": []
   },
   "source": [
    "\n",
    "**Разделим клиентов на 5 категорий по уровню дохода:**\n",
    "- Без дохода — люди без работы и с нулевым доходом.\n",
    "- Очень низкий доход — люди, получающие ниже 14 процентиля от общего распределения дохода.\n",
    "- Низкий доход — люди, получающие между 14 и 34 процентилями от общего распределения дохода.\n",
    "- Средний доход — люди, получающие между 34 и 78 процентилями от общего распределения дохода.\n",
    "- Высокий доход — люди, получающие больше 78 процентиля от общего распределения дохода.\n",
    "\n"
   ]
  },
  {
   "cell_type": "code",
   "execution_count": 400,
   "metadata": {
    "tags": []
   },
   "outputs": [
    {
     "name": "stdout",
     "output_type": "stream",
     "text": [
      "   total_income total_income_category\n",
      "0     40620.102         Высокий доход\n",
      "1     17932.802         Средний доход\n",
      "2     23341.752         Средний доход\n",
      "3     42820.568         Высокий доход\n",
      "4     25378.572         Средний доход\n",
      "5     40922.170         Высокий доход\n",
      "6     38484.156         Высокий доход\n",
      "7     21731.829         Средний доход\n",
      "8     15337.093          Низкий доход\n",
      "9     23108.150         Средний доход\n"
     ]
    }
   ],
   "source": [
    "quantile_14 = df['total_income'].quantile(0.14)\n",
    "quantile_34 = df['total_income'].quantile(0.34)\n",
    "quantile_78 = df['total_income'].quantile(0.78)\n",
    "\n",
    "def income(total_income, q_14=quantile_14, q_34=quantile_34, q_78=quantile_78):\n",
    "    if total_income < 0:\n",
    "        return 'error'\n",
    "    elif total_income == 0:\n",
    "        return 'Без дохода'\n",
    "    elif total_income < q_14:\n",
    "        return 'Очень низкий доход'\n",
    "    elif total_income < q_34 and total_income >= q_14:\n",
    "        return 'Низкий доход'\n",
    "    elif total_income < q_78 and total_income >= q_34:\n",
    "        return 'Средний доход'\n",
    "    elif total_income >= q_78:\n",
    "        return 'Высокий доход'\n",
    "df['total_income_category'] = df['total_income'].apply(income)\n",
    "print(df[['total_income', 'total_income_category']].head(10))"
   ]
  },
  {
   "cell_type": "markdown",
   "metadata": {
    "tags": []
   },
   "source": [
    "Разделим клиентов на две категории по возрасту: до 40 лет и после."
   ]
  },
  {
   "cell_type": "code",
   "execution_count": 401,
   "metadata": {
    "tags": []
   },
   "outputs": [
    {
     "name": "stdout",
     "output_type": "stream",
     "text": [
      "   dob_years      age_category\n",
      "0         42  возраст после 40\n",
      "1         36     возраст до 40\n",
      "2         33     возраст до 40\n",
      "3         32     возраст до 40\n",
      "4         53  возраст после 40\n",
      "5         27     возраст до 40\n",
      "6         43  возраст после 40\n",
      "7         50  возраст после 40\n",
      "8         35     возраст до 40\n",
      "9         41  возраст после 40\n"
     ]
    }
   ],
   "source": [
    "def age(dob_years):\n",
    "    if dob_years < 0:\n",
    "        return 'error'\n",
    "    elif dob_years < 40:\n",
    "        return 'возраст до 40'\n",
    "    elif dob_years >= 40:\n",
    "        return 'возраст после 40'\n",
    "df['age_category'] = df['dob_years'].apply(age)\n",
    "print(df[['dob_years', 'age_category']].head(10))"
   ]
  },
  {
   "cell_type": "markdown",
   "metadata": {
    "tags": []
   },
   "source": [
    "Разделим клиентов на несколько категорий по количеству детей: без детей, от одного до двух, от трёх и больше. "
   ]
  },
  {
   "cell_type": "code",
   "execution_count": 402,
   "metadata": {
    "tags": []
   },
   "outputs": [
    {
     "name": "stdout",
     "output_type": "stream",
     "text": [
      "   children  children_category\n",
      "0         1  от одного до двух\n",
      "1         1  от одного до двух\n",
      "2         0          без детей\n",
      "3         3   от трех и больше\n",
      "4         0          без детей\n",
      "5         0          без детей\n",
      "6         0          без детей\n",
      "7         0          без детей\n",
      "8         2  от одного до двух\n",
      "9         0          без детей\n"
     ]
    }
   ],
   "source": [
    "def children_count(children): \n",
    "    if children < 0:\n",
    "        return 'error'\n",
    "    elif children == 0:\n",
    "        return 'без детей'\n",
    "    elif children > 0 and children <= 2:\n",
    "        return 'от одного до двух'\n",
    "    elif children > 2:\n",
    "        return 'от трех и больше'\n",
    "df['children_category'] = df['children'].apply(children_count)\n",
    "print(df[['children', 'children_category']].head(10))"
   ]
  },
  {
   "cell_type": "markdown",
   "metadata": {
    "tags": []
   },
   "source": [
    "## Шаг 5. Исследовательский анализ данных"
   ]
  },
  {
   "cell_type": "code",
   "execution_count": 403,
   "metadata": {
    "tags": []
   },
   "outputs": [
    {
     "data": {
      "image/png": "[encoded data removed]",
      "text/plain": [
       "<Figure size 720x288 with 1 Axes>"
      ]
     },
     "metadata": {},
     "output_type": "display_data"
    },
    {
     "name": "stdout",
     "output_type": "stream",
     "text": [
      "                           debt\n",
      "total_income_category          \n",
      "Без дохода             0.081731\n",
      "Высокий доход          0.070749\n",
      "Низкий доход           0.082342\n",
      "Очень низкий доход     0.062718\n",
      "Средний доход          0.087968\n"
     ]
    }
   ],
   "source": [
    "sns.set(style=\"whitegrid\", palette=\"muted\")\n",
    "plt.figure(figsize = (10, 4))\n",
    "sns.histplot(data = df, x = 'total_income_category', hue = 'debt', multiple='dodge')\n",
    "plt.title('Распределение клиентов по уровню дохода')\n",
    "plt.xlabel('Уровень дохода')\n",
    "plt.ylabel('Количество клиентов')\n",
    "plt.show()\n",
    "print(df.pivot_table(index = 'total_income_category', values = 'debt', aggfunc = 'mean'))"
   ]
  },
  {
   "cell_type": "markdown",
   "metadata": {},
   "source": [
    "Из таблицы видно, что клиенты со средним доходом имеют наибольший процент просрочек по кредиту. Довольно противоречивым кажется тот факт, что наболее низкий уровень просрочек по кредиту имеют клиенты с очень низким доходом. "
   ]
  },
  {
   "cell_type": "code",
   "execution_count": 404,
   "metadata": {},
   "outputs": [
    {
     "data": {
      "image/png": "[encoded data removed]",
      "text/plain": [
       "<Figure size 720x288 with 1 Axes>"
      ]
     },
     "metadata": {},
     "output_type": "display_data"
    },
    {
     "name": "stdout",
     "output_type": "stream",
     "text": [
      "                         debt\n",
      "education                    \n",
      "bachelor's degree    0.053225\n",
      "graduate degree      0.000000\n",
      "primary education    0.110320\n",
      "secondary education  0.090045\n",
      "some college         0.089163\n"
     ]
    }
   ],
   "source": [
    "sns.set(style=\"whitegrid\", palette=\"muted\")\n",
    "plt.figure(figsize = (10, 4))\n",
    "sns.histplot(data = df, x = 'education', hue = 'debt', multiple='dodge')\n",
    "plt.title('Распределение клиентов по уровню образования')\n",
    "plt.xlabel('Уровень образования')\n",
    "plt.ylabel('Количество клиентов')\n",
    "plt.show()\n",
    "print(df.pivot_table(index = 'education', values = 'debt', aggfunc = 'mean'))"
   ]
  },
  {
   "cell_type": "markdown",
   "metadata": {},
   "source": [
    "Из таблицы видно, что клиенты со степенью магистра (graduate degree) не имеют должников, что указывает на очень высокую финансовую дисциплину в этой группе. Наивысшая доля должников наблюдается у клиентов с начальным образованием — 11.03%. Это может свидетельствовать о низкой финансовой грамотности и ограниченных возможностях для получения хорошего дохода, что ведет к увеличению риска задолженности"
   ]
  },
  {
   "cell_type": "code",
   "execution_count": 405,
   "metadata": {},
   "outputs": [
    {
     "data": {
      "image/png": "[encoded data removed]",
      "text/plain": [
       "<Figure size 720x288 with 1 Axes>"
      ]
     },
     "metadata": {},
     "output_type": "display_data"
    },
    {
     "name": "stdout",
     "output_type": "stream",
     "text": [
      "                      debt\n",
      "age_category              \n",
      "возраст до 40     0.102623\n",
      "возраст после 40  0.066423\n"
     ]
    }
   ],
   "source": [
    "sns.set(style=\"whitegrid\", palette=\"muted\")\n",
    "plt.figure(figsize = (10, 4))\n",
    "sns.histplot(data = df, x = 'age_category', hue = 'debt', multiple='dodge')\n",
    "plt.title('Распределение клиентов по возрастным группам')\n",
    "plt.ylabel('Количество клиентов')\n",
    "plt.xlabel('Возрастная категория')\n",
    "plt.show()\n",
    "print(df.pivot_table(index = 'age_category', values = 'debt', aggfunc = 'mean'))"
   ]
  },
  {
   "cell_type": "markdown",
   "metadata": {},
   "source": [
    "Доля должников среди клиентов в возрастной группе после 40 составляет 6.65%, что значительно меньше чем у категории до 40 лет."
   ]
  },
  {
   "cell_type": "code",
   "execution_count": 406,
   "metadata": {},
   "outputs": [
    {
     "data": {
      "image/png": "[encoded data removed]",
      "text/plain": [
       "<Figure size 720x288 with 1 Axes>"
      ]
     },
     "metadata": {},
     "output_type": "display_data"
    },
    {
     "name": "stdout",
     "output_type": "stream",
     "text": [
      "                       debt\n",
      "children_category          \n",
      "без детей          0.075506\n",
      "от одного до двух  0.093320\n",
      "от трех и больше   0.085399\n"
     ]
    }
   ],
   "source": [
    "sns.set(style=\"whitegrid\", palette=\"muted\")\n",
    "plt.figure(figsize = (10, 4))\n",
    "sns.histplot(data = df, x = 'children_category', hue = 'debt', multiple='dodge')\n",
    "plt.title('Распределение клиентов по количеству детей в семье')\n",
    "plt.ylabel('Количество клиентов')\n",
    "plt.xlabel('Количество детей')\n",
    "plt.show()\n",
    "print(df.pivot_table(index = 'children_category', values = 'debt', aggfunc = 'mean'))"
   ]
  },
  {
   "cell_type": "markdown",
   "metadata": {},
   "source": [
    "По графикам видно, что распределения между должниками и нет слабо отличаются друг от друга. "
   ]
  },
  {
   "cell_type": "markdown",
   "metadata": {
    "tags": []
   },
   "source": [
    "***Проверим исследовательскую гипотезу***: у клиентов с детьми более высокий уровень финансовой ответственности и, следовательно, более низкий риск просрочек по кредиту."
   ]
  },
  {
   "cell_type": "code",
   "execution_count": 407,
   "metadata": {
    "tags": []
   },
   "outputs": [
    {
     "data": {
      "image/png": "[encoded data removed]",
      "text/plain": [
       "<Figure size 432x288 with 1 Axes>"
      ]
     },
     "metadata": {},
     "output_type": "display_data"
    },
    {
     "name": "stdout",
     "output_type": "stream",
     "text": [
      "                       debt\n",
      "children_category          \n",
      "без детей          0.075506\n",
      "от одного до двух  0.093320\n",
      "от трех и больше   0.085399\n"
     ]
    }
   ],
   "source": [
    "sns.set(style=\"whitegrid\", palette=\"muted\")\n",
    "sns.barplot(data=df, x='children_category', y = 'debt')\n",
    "plt.title('Доля просрочек по кредитам в зависимости от количества детей в семье')\n",
    "plt.xlabel('Количество детей в семье')\n",
    "plt.ylabel('Доля просрочки по кредиту')\n",
    "plt.show()\n",
    "print(df.pivot_table(index = 'children_category', values = 'debt', aggfunc = 'mean'))"
   ]
  },
  {
   "cell_type": "markdown",
   "metadata": {},
   "source": [
    "Гипотеза опровергается. Данные показывают обратное: клиенты без детей имеют меньший процент просрочек чем клиенты, у которых есть дети."
   ]
  },
  {
   "cell_type": "markdown",
   "metadata": {
    "tags": []
   },
   "source": [
    "\n",
    "***Проверим исследовательскую гипотезу***: одинокие мужчины с низким доходом чаще оказываются должниками, чем семейные мужчины со средним доходом.\n",
    "\n"
   ]
  },
  {
   "cell_type": "markdown",
   "metadata": {},
   "source": [
    "Посмотрим для начала, какие значения содержит столбец family_status"
   ]
  },
  {
   "cell_type": "code",
   "execution_count": 408,
   "metadata": {},
   "outputs": [
    {
     "name": "stdout",
     "output_type": "stream",
     "text": [
      "['married' 'civil partnership' 'widow / widower' 'divorced' 'unmarried']\n"
     ]
    }
   ],
   "source": [
    "print(df['family_status'].unique())"
   ]
  },
  {
   "cell_type": "markdown",
   "metadata": {},
   "source": [
    "Разделим на две категории: одинокий и семейный"
   ]
  },
  {
   "cell_type": "code",
   "execution_count": 409,
   "metadata": {},
   "outputs": [
    {
     "name": "stdout",
     "output_type": "stream",
     "text": [
      "           family_status family_status_common\n",
      "0                married             семейный\n",
      "1                married             семейный\n",
      "2                married             семейный\n",
      "3                married             семейный\n",
      "4      civil partnership             семейный\n",
      "...                  ...                  ...\n",
      "21520  civil partnership             семейный\n",
      "21521            married             семейный\n",
      "21522  civil partnership             семейный\n",
      "21523            married             семейный\n",
      "21524            married             семейный\n",
      "\n",
      "[21007 rows x 2 columns]\n"
     ]
    }
   ],
   "source": [
    "def status(family_status):\n",
    "    if family_status == 'married' or family_status == 'civil partnership':\n",
    "        return 'семейный'\n",
    "    elif family_status == 'widow / widower' or family_status == 'divorced' or family_status == 'unmarried':\n",
    "        return 'одинокий'\n",
    "df['family_status_common'] = df['family_status'].apply(status)\n",
    "print(df[['family_status', 'family_status_common']])"
   ]
  },
  {
   "cell_type": "code",
   "execution_count": 410,
   "metadata": {},
   "outputs": [
    {
     "data": {
      "image/png": "[encoded data removed]",
      "text/plain": [
       "<Figure size 720x288 with 1 Axes>"
      ]
     },
     "metadata": {},
     "output_type": "display_data"
    }
   ],
   "source": [
    "plt.figure(figsize = (10, 4))\n",
    "sns.set(style=\"whitegrid\", palette=\"muted\")\n",
    "sns.barplot(data=df.query('gender == \"M\"'), x='total_income_category', y='debt', hue='family_status_common')\n",
    "plt.title('Доля просрочек по кредитам в зависимости от уровня дохода')\n",
    "plt.xlabel('Уровень дохода')\n",
    "plt.ylabel('Доля просрочек по кредиту')\n",
    "plt.show()"
   ]
  },
  {
   "cell_type": "markdown",
   "metadata": {},
   "source": [
    "Гипотеза подтвердилась. Одинокие мужчины с низким доходом чаще оказываются должниками. "
   ]
  },
  {
   "cell_type": "markdown",
   "metadata": {
    "tags": []
   },
   "source": [
    "\n",
    "## Шаг 6. Общий вывод\n",
    "\n"
   ]
  },
  {
   "cell_type": "markdown",
   "metadata": {},
   "source": [
    "В ходе проведенного исследования были проанализированы различные факторы, влияющие на своевременное погашение кредита клиентами банка «Скрудж».\n",
    "1. Влияние уровня дохода\n",
    "Результаты показали, что уровень дохода значимо влияет на финансовую ответственность клиентов. Клиенты с низким доходом и очень низким доходом имеют более высокую долю должников на уровне 8.23% и 6.27% соответственно. Напротив, клиенты с высоким доходом показывают наименьшую долю должников (7.07%), что подтверждает необходимость более тщательной оценки кредитоспособности заемщиков на основе их финансового положения.\n",
    "2. Образование как индикатор финансовой ответственности\n",
    "Данные, касающиеся образования клиентов, свидетельствуют о том, что более высокий уровень образования связан с меньшей долей должников. Клиенты с первичным образованием имеют самый высокий уровень задолженности (11.03%), в то время как у выпускников со степнью магистра этот показатель составляет 0%. Это указывает на то, что клиенты с лучше развитой финансовой грамотностью и навыками управления ресурсами менее подвержены финансовым трудностям.\n",
    "3. Возрастная категория и финансовая дисциплина\n",
    "Анализ возрастных категорий показал, что заёмщики до 40 лет имеют долю должников на уровне 10.26%, что значительно выше по сравнению с клиентами старше 40 лет (6.64%). Это может указывать на большую финансовую непредсказуемость и недостаток опыта у молодых клиентов. Более зрелые заемщики предпочитают более взвешенные решения и более опытные в управлении своими финансами.\n",
    "Также были проверены две исследовательские гипотезы. В результате проверки стало понятно, что клиенты без детей имеют меньший процент просрочек по кредиту чем клиенты, у которых есть дети, а также, что одинокие мужчины с низким доходом чаще оказываются должниками чем семейные мужчины со средним доходом. "
   ]
  },
  {
   "cell_type": "markdown",
   "metadata": {
    "tags": []
   },
   "source": [
    "\n",
    "## *Шаг 7. Дополнительное исследование\n",
    "\n"
   ]
  },
  {
   "cell_type": "markdown",
   "metadata": {
    "tags": []
   },
   "source": [
    "Исследуем причины оформления кредита. Проверим гипотезу, что люди, которые брали кредит на образование, реже всего оказывались должниками.\n",
    "\n"
   ]
  },
  {
   "cell_type": "code",
   "execution_count": 411,
   "metadata": {
    "tags": []
   },
   "outputs": [
    {
     "name": "stdout",
     "output_type": "stream",
     "text": [
      "['purchase of the house' 'car purchase' 'supplementary education'\n",
      " 'to have a wedding' 'housing transactions' 'education' 'having a wedding'\n",
      " 'purchase of the house for my family' 'buy real estate'\n",
      " 'buy commercial real estate' 'buy residential real estate'\n",
      " 'construction of own property' 'property' 'building a property'\n",
      " 'buying a second-hand car' 'buying my own car'\n",
      " 'transactions with commercial real estate' 'building a real estate'\n",
      " 'housing' 'transactions with my real estate' 'cars'\n",
      " 'second-hand car purchase' 'getting an education' 'to become educated'\n",
      " 'car' 'wedding ceremony' 'to get a supplementary education'\n",
      " 'purchase of my own house' 'real estate transactions'\n",
      " 'getting higher education' 'to own a car' 'purchase of a car'\n",
      " 'profile education' 'university education'\n",
      " 'buying property for renting out' 'to buy a car' 'housing renovation'\n",
      " 'going to university']\n",
      "['supplementary education', 'education', 'getting an education', 'to get a supplementary education', 'getting higher education', 'profile education', 'university education']\n"
     ]
    }
   ],
   "source": [
    "list_ = df['purpose'].unique()\n",
    "print(list_)\n",
    "education_related = [reason for reason in list_ if 'education' in reason]\n",
    "print(education_related)"
   ]
  },
  {
   "cell_type": "code",
   "execution_count": 412,
   "metadata": {
    "tags": []
   },
   "outputs": [
    {
     "name": "stdout",
     "output_type": "stream",
     "text": [
      "                       purpose         purpose_category\n",
      "0        purchase of the house  Кредит для других целей\n",
      "1                 car purchase  Кредит для других целей\n",
      "2        purchase of the house  Кредит для других целей\n",
      "3      supplementary education   Кредит для образования\n",
      "4            to have a wedding  Кредит для других целей\n",
      "...                        ...                      ...\n",
      "21520     housing transactions  Кредит для других целей\n",
      "21521        purchase of a car  Кредит для других целей\n",
      "21522                 property  Кредит для других целей\n",
      "21523        buying my own car  Кредит для других целей\n",
      "21524             to buy a car  Кредит для других целей\n",
      "\n",
      "[21007 rows x 2 columns]\n"
     ]
    }
   ],
   "source": [
    "def find_education_purpose(purpose):\n",
    "    education_related = [reason for reason in list_ if 'education' in reason]\n",
    "    if purpose in education_related:\n",
    "        return 'Кредит для образования'\n",
    "    else:\n",
    "        return 'Кредит для других целей'\n",
    "df['purpose_category'] = df['purpose'].apply(find_education_purpose)\n",
    "print(df[['purpose', 'purpose_category']])"
   ]
  },
  {
   "cell_type": "code",
   "execution_count": 413,
   "metadata": {
    "tags": []
   },
   "outputs": [
    {
     "data": {
      "image/png": "[encoded data removed]",
      "text/plain": [
       "<Figure size 720x288 with 1 Axes>"
      ]
     },
     "metadata": {},
     "output_type": "display_data"
    },
    {
     "name": "stdout",
     "output_type": "stream",
     "text": [
      "                             debt\n",
      "purpose_category                 \n",
      "Кредит для других целей  0.079445\n",
      "Кредит для образования   0.092939\n"
     ]
    }
   ],
   "source": [
    "plt.figure(figsize = (10,4))\n",
    "sns.barplot(data = df, x = 'purpose_category', y = 'debt')\n",
    "plt.title('Доля просрочек по кредитам в зависимости от цели кредита')\n",
    "plt.xlabel('Цель кредита')\n",
    "plt.ylabel('Доля просрочек по кредиту')\n",
    "plt.show()\n",
    "print(df.pivot_table(index = 'purpose_category', values = 'debt', aggfunc = 'mean'))"
   ]
  },
  {
   "cell_type": "markdown",
   "metadata": {},
   "source": [
    "На графике видно, что доля просрочек по кредиту выше в случае когда кредит брался на образование. Гипотеза не подтвердилась. Это подтверждает и таблица."
   ]
  }
 ],
 "metadata": {
  "ExecuteTimeLog": [
   {
    "duration": 391,
    "start_time": "2024-12-13T18:22:38.911Z"
   },
   {
    "duration": 236,
    "start_time": "2024-12-13T18:23:25.730Z"
   },
   {
    "duration": 3,
    "start_time": "2024-12-13T18:23:48.209Z"
   },
   {
    "duration": 9,
    "start_time": "2024-12-13T18:23:59.545Z"
   },
   {
    "duration": 41,
    "start_time": "2024-12-13T18:24:17.863Z"
   },
   {
    "duration": 13,
    "start_time": "2024-12-13T18:24:23.001Z"
   },
   {
    "duration": 14,
    "start_time": "2024-12-13T18:24:35.188Z"
   },
   {
    "duration": 10,
    "start_time": "2024-12-13T18:24:50.707Z"
   },
   {
    "duration": 10,
    "start_time": "2024-12-13T18:25:05.985Z"
   },
   {
    "duration": 13,
    "start_time": "2024-12-13T18:25:19.188Z"
   },
   {
    "duration": 33,
    "start_time": "2024-12-13T18:26:42.762Z"
   },
   {
    "duration": 13,
    "start_time": "2024-12-13T18:26:50.333Z"
   },
   {
    "duration": 13,
    "start_time": "2024-12-13T18:28:00.096Z"
   },
   {
    "duration": 12,
    "start_time": "2024-12-13T18:28:08.105Z"
   },
   {
    "duration": 8,
    "start_time": "2024-12-13T18:34:11.323Z"
   },
   {
    "duration": 9,
    "start_time": "2024-12-13T18:37:12.635Z"
   },
   {
    "duration": 9,
    "start_time": "2024-12-13T18:42:06.673Z"
   },
   {
    "duration": 4,
    "start_time": "2024-12-13T18:48:15.829Z"
   },
   {
    "duration": 64,
    "start_time": "2024-12-13T18:49:26.371Z"
   },
   {
    "duration": 9,
    "start_time": "2024-12-13T18:49:51.468Z"
   },
   {
    "duration": 17,
    "start_time": "2024-12-13T18:50:00.477Z"
   },
   {
    "duration": 5,
    "start_time": "2024-12-13T18:50:04.508Z"
   },
   {
    "duration": 24,
    "start_time": "2024-12-13T18:50:21.712Z"
   },
   {
    "duration": 23,
    "start_time": "2024-12-13T18:50:41.005Z"
   },
   {
    "duration": 23,
    "start_time": "2024-12-13T18:50:45.769Z"
   },
   {
    "duration": 7,
    "start_time": "2024-12-13T18:51:03.814Z"
   },
   {
    "duration": 8,
    "start_time": "2024-12-13T18:53:37.392Z"
   },
   {
    "duration": 4,
    "start_time": "2024-12-13T18:54:13.030Z"
   },
   {
    "duration": 6,
    "start_time": "2024-12-13T18:56:51.250Z"
   },
   {
    "duration": 7,
    "start_time": "2024-12-13T18:57:00.739Z"
   },
   {
    "duration": 6,
    "start_time": "2024-12-13T18:57:23.449Z"
   },
   {
    "duration": 38,
    "start_time": "2024-12-13T18:57:58.440Z"
   },
   {
    "duration": 5,
    "start_time": "2024-12-13T18:58:04.414Z"
   },
   {
    "duration": 13,
    "start_time": "2024-12-13T18:59:48.204Z"
   },
   {
    "duration": 4,
    "start_time": "2024-12-13T19:01:16.800Z"
   },
   {
    "duration": 5,
    "start_time": "2024-12-13T19:02:25.519Z"
   },
   {
    "duration": 10,
    "start_time": "2024-12-13T19:11:44.076Z"
   },
   {
    "duration": 10,
    "start_time": "2024-12-13T19:12:44.128Z"
   },
   {
    "duration": 12,
    "start_time": "2024-12-13T19:12:50.156Z"
   },
   {
    "duration": 17,
    "start_time": "2024-12-13T19:13:13.887Z"
   },
   {
    "duration": 19,
    "start_time": "2024-12-13T19:18:24.684Z"
   },
   {
    "duration": 32,
    "start_time": "2024-12-13T19:25:14.173Z"
   },
   {
    "duration": 39,
    "start_time": "2024-12-13T19:27:20.607Z"
   },
   {
    "duration": 35,
    "start_time": "2024-12-13T19:27:38.365Z"
   },
   {
    "duration": 31,
    "start_time": "2024-12-13T19:30:55.161Z"
   },
   {
    "duration": 39,
    "start_time": "2024-12-13T19:31:55.483Z"
   },
   {
    "duration": 14,
    "start_time": "2024-12-13T19:32:25.158Z"
   },
   {
    "duration": 14,
    "start_time": "2024-12-13T19:36:01.000Z"
   },
   {
    "duration": 22,
    "start_time": "2024-12-13T19:36:41.924Z"
   },
   {
    "duration": 21,
    "start_time": "2024-12-13T19:38:26.144Z"
   },
   {
    "duration": 21,
    "start_time": "2024-12-13T19:38:41.829Z"
   },
   {
    "duration": 21,
    "start_time": "2024-12-13T19:39:53.296Z"
   },
   {
    "duration": 8,
    "start_time": "2024-12-13T19:40:21.681Z"
   },
   {
    "duration": 5,
    "start_time": "2024-12-13T19:40:45.870Z"
   },
   {
    "duration": 9,
    "start_time": "2024-12-13T19:41:58.916Z"
   },
   {
    "duration": 11,
    "start_time": "2024-12-13T19:42:29.787Z"
   },
   {
    "duration": 10,
    "start_time": "2024-12-13T19:42:38.980Z"
   },
   {
    "duration": 6,
    "start_time": "2024-12-13T19:43:13.928Z"
   },
   {
    "duration": 6,
    "start_time": "2024-12-13T19:43:49.864Z"
   },
   {
    "duration": 5,
    "start_time": "2024-12-13T19:44:17.161Z"
   },
   {
    "duration": 54,
    "start_time": "2024-12-13T19:44:32.014Z"
   },
   {
    "duration": 3,
    "start_time": "2024-12-13T19:44:33.890Z"
   },
   {
    "duration": 15,
    "start_time": "2024-12-13T19:44:37.827Z"
   },
   {
    "duration": 8,
    "start_time": "2024-12-13T19:44:43.412Z"
   },
   {
    "duration": 8,
    "start_time": "2024-12-13T19:44:46.212Z"
   },
   {
    "duration": 4,
    "start_time": "2024-12-13T19:44:49.724Z"
   },
   {
    "duration": 18,
    "start_time": "2024-12-13T19:44:53.236Z"
   },
   {
    "duration": 5,
    "start_time": "2024-12-13T19:45:01.236Z"
   },
   {
    "duration": 11,
    "start_time": "2024-12-13T19:45:07.630Z"
   },
   {
    "duration": 15,
    "start_time": "2024-12-13T19:45:47.036Z"
   },
   {
    "duration": 21,
    "start_time": "2024-12-13T19:46:04.027Z"
   },
   {
    "duration": 50,
    "start_time": "2024-12-14T20:34:18.644Z"
   },
   {
    "duration": 6,
    "start_time": "2024-12-14T20:34:41.180Z"
   },
   {
    "duration": 379,
    "start_time": "2024-12-14T20:34:48.152Z"
   },
   {
    "duration": 977,
    "start_time": "2024-12-14T20:35:19.472Z"
   },
   {
    "duration": 126,
    "start_time": "2024-12-14T20:35:22.506Z"
   },
   {
    "duration": 3,
    "start_time": "2024-12-14T20:35:25.123Z"
   },
   {
    "duration": 17,
    "start_time": "2024-12-14T20:35:30.273Z"
   },
   {
    "duration": 11,
    "start_time": "2024-12-14T20:35:34.069Z"
   },
   {
    "duration": 11,
    "start_time": "2024-12-14T20:35:37.488Z"
   },
   {
    "duration": 5,
    "start_time": "2024-12-14T20:35:40.608Z"
   },
   {
    "duration": 26,
    "start_time": "2024-12-14T20:35:46.570Z"
   },
   {
    "duration": 5,
    "start_time": "2024-12-14T20:35:51.629Z"
   },
   {
    "duration": 13,
    "start_time": "2024-12-14T20:35:55.276Z"
   },
   {
    "duration": 25,
    "start_time": "2024-12-14T20:35:58.494Z"
   },
   {
    "duration": 24,
    "start_time": "2024-12-14T20:36:03.388Z"
   },
   {
    "duration": 8,
    "start_time": "2024-12-14T20:36:08.981Z"
   },
   {
    "duration": 17,
    "start_time": "2024-12-14T20:36:31.832Z"
   },
   {
    "duration": 1435,
    "start_time": "2024-12-14T20:37:17.403Z"
   },
   {
    "duration": 14,
    "start_time": "2024-12-14T20:38:11.269Z"
   },
   {
    "duration": 15,
    "start_time": "2024-12-14T20:40:35.281Z"
   },
   {
    "duration": 13,
    "start_time": "2024-12-14T20:40:44.600Z"
   },
   {
    "duration": 13,
    "start_time": "2024-12-14T20:40:52.545Z"
   },
   {
    "duration": 110,
    "start_time": "2024-12-14T20:44:57.379Z"
   },
   {
    "duration": 116,
    "start_time": "2024-12-14T20:52:19.735Z"
   },
   {
    "duration": 122,
    "start_time": "2024-12-14T20:52:38.045Z"
   },
   {
    "duration": 519,
    "start_time": "2024-12-14T20:54:25.836Z"
   },
   {
    "duration": 612,
    "start_time": "2024-12-14T20:55:34.596Z"
   },
   {
    "duration": 106,
    "start_time": "2024-12-14T21:04:08.912Z"
   },
   {
    "duration": 104,
    "start_time": "2024-12-14T21:05:50.888Z"
   },
   {
    "duration": 519,
    "start_time": "2024-12-14T21:10:14.540Z"
   },
   {
    "duration": 216,
    "start_time": "2024-12-14T21:10:35.891Z"
   },
   {
    "duration": 295,
    "start_time": "2024-12-14T21:11:26.056Z"
   },
   {
    "duration": 97,
    "start_time": "2024-12-14T21:12:55.746Z"
   },
   {
    "duration": 358,
    "start_time": "2024-12-14T21:18:08.284Z"
   },
   {
    "duration": 50,
    "start_time": "2024-12-15T07:38:32.329Z"
   },
   {
    "duration": 1396,
    "start_time": "2024-12-15T07:39:51.145Z"
   },
   {
    "duration": 120,
    "start_time": "2024-12-15T07:39:52.544Z"
   },
   {
    "duration": 4,
    "start_time": "2024-12-15T07:39:52.665Z"
   },
   {
    "duration": 44,
    "start_time": "2024-12-15T07:39:52.670Z"
   },
   {
    "duration": 13,
    "start_time": "2024-12-15T07:39:52.716Z"
   },
   {
    "duration": 36,
    "start_time": "2024-12-15T07:39:52.731Z"
   },
   {
    "duration": 22,
    "start_time": "2024-12-15T07:39:52.769Z"
   },
   {
    "duration": 35,
    "start_time": "2024-12-15T07:39:52.792Z"
   },
   {
    "duration": 6,
    "start_time": "2024-12-15T07:39:52.829Z"
   },
   {
    "duration": 35,
    "start_time": "2024-12-15T07:39:52.836Z"
   },
   {
    "duration": 29,
    "start_time": "2024-12-15T07:39:52.873Z"
   },
   {
    "duration": 17,
    "start_time": "2024-12-15T07:39:52.903Z"
   },
   {
    "duration": 14,
    "start_time": "2024-12-15T07:39:52.921Z"
   },
   {
    "duration": 162,
    "start_time": "2024-12-15T07:39:52.938Z"
   },
   {
    "duration": 539,
    "start_time": "2024-12-15T07:39:53.102Z"
   },
   {
    "duration": 123,
    "start_time": "2024-12-15T07:39:53.642Z"
   },
   {
    "duration": 214,
    "start_time": "2024-12-15T07:39:53.771Z"
   },
   {
    "duration": 105,
    "start_time": "2024-12-15T07:39:53.986Z"
   },
   {
    "duration": 293,
    "start_time": "2024-12-15T07:39:54.095Z"
   },
   {
    "duration": 3,
    "start_time": "2024-12-15T07:39:54.389Z"
   },
   {
    "duration": 8,
    "start_time": "2024-12-15T07:39:54.393Z"
   },
   {
    "duration": 4,
    "start_time": "2024-12-15T07:39:54.403Z"
   },
   {
    "duration": 6,
    "start_time": "2024-12-15T07:39:54.409Z"
   },
   {
    "duration": 11,
    "start_time": "2024-12-15T07:39:54.417Z"
   },
   {
    "duration": 23,
    "start_time": "2024-12-15T07:39:54.429Z"
   },
   {
    "duration": 12,
    "start_time": "2024-12-15T07:39:54.454Z"
   },
   {
    "duration": 4,
    "start_time": "2024-12-15T07:39:54.468Z"
   },
   {
    "duration": 10,
    "start_time": "2024-12-15T07:39:54.474Z"
   },
   {
    "duration": 16,
    "start_time": "2024-12-15T07:44:57.803Z"
   },
   {
    "duration": 234,
    "start_time": "2024-12-15T07:46:23.858Z"
   },
   {
    "duration": 557,
    "start_time": "2024-12-15T07:46:50.407Z"
   },
   {
    "duration": 226,
    "start_time": "2024-12-15T08:16:13.850Z"
   },
   {
    "duration": 230,
    "start_time": "2024-12-15T08:17:01.108Z"
   },
   {
    "duration": 320,
    "start_time": "2024-12-15T08:17:09.186Z"
   },
   {
    "duration": 230,
    "start_time": "2024-12-15T08:18:53.523Z"
   },
   {
    "duration": 97,
    "start_time": "2024-12-15T08:19:23.869Z"
   },
   {
    "duration": 536,
    "start_time": "2024-12-15T08:20:36.015Z"
   },
   {
    "duration": 114,
    "start_time": "2024-12-15T08:21:06.038Z"
   },
   {
    "duration": 78,
    "start_time": "2024-12-15T08:23:46.116Z"
   },
   {
    "duration": 26,
    "start_time": "2024-12-15T08:24:44.069Z"
   },
   {
    "duration": 18,
    "start_time": "2024-12-15T08:25:11.978Z"
   },
   {
    "duration": 18,
    "start_time": "2024-12-15T08:25:58.135Z"
   },
   {
    "duration": 9,
    "start_time": "2024-12-15T08:28:56.476Z"
   },
   {
    "duration": 18,
    "start_time": "2024-12-15T08:29:07.424Z"
   },
   {
    "duration": 20,
    "start_time": "2024-12-15T08:29:13.956Z"
   },
   {
    "duration": 37,
    "start_time": "2024-12-15T08:38:49.534Z"
   },
   {
    "duration": 34,
    "start_time": "2024-12-15T08:39:28.203Z"
   },
   {
    "duration": 32,
    "start_time": "2024-12-15T08:40:06.738Z"
   },
   {
    "duration": 21,
    "start_time": "2024-12-15T08:41:49.180Z"
   },
   {
    "duration": 42,
    "start_time": "2024-12-15T08:57:08.586Z"
   },
   {
    "duration": 21,
    "start_time": "2024-12-15T08:58:14.450Z"
   },
   {
    "duration": 23,
    "start_time": "2024-12-15T08:59:02.373Z"
   },
   {
    "duration": 21,
    "start_time": "2024-12-15T08:59:09.617Z"
   },
   {
    "duration": 339,
    "start_time": "2024-12-15T09:15:21.447Z"
   },
   {
    "duration": 0,
    "start_time": "2024-12-15T09:21:15.870Z"
   },
   {
    "duration": 59,
    "start_time": "2024-12-15T09:21:19.631Z"
   },
   {
    "duration": 20,
    "start_time": "2024-12-15T09:21:24.091Z"
   },
   {
    "duration": 3,
    "start_time": "2024-12-15T09:21:32.126Z"
   },
   {
    "duration": 69,
    "start_time": "2024-12-15T09:21:32.131Z"
   },
   {
    "duration": 4,
    "start_time": "2024-12-15T09:21:32.202Z"
   },
   {
    "duration": 44,
    "start_time": "2024-12-15T09:21:32.208Z"
   },
   {
    "duration": 16,
    "start_time": "2024-12-15T09:21:32.253Z"
   },
   {
    "duration": 11,
    "start_time": "2024-12-15T09:21:32.271Z"
   },
   {
    "duration": 4,
    "start_time": "2024-12-15T09:21:32.283Z"
   },
   {
    "duration": 34,
    "start_time": "2024-12-15T09:21:32.289Z"
   },
   {
    "duration": 35,
    "start_time": "2024-12-15T09:21:32.326Z"
   },
   {
    "duration": 24,
    "start_time": "2024-12-15T09:21:32.363Z"
   },
   {
    "duration": 38,
    "start_time": "2024-12-15T09:21:32.388Z"
   },
   {
    "duration": 58,
    "start_time": "2024-12-15T09:21:32.428Z"
   },
   {
    "duration": 27,
    "start_time": "2024-12-15T09:21:32.487Z"
   },
   {
    "duration": 170,
    "start_time": "2024-12-15T09:21:32.516Z"
   },
   {
    "duration": 523,
    "start_time": "2024-12-15T09:21:32.688Z"
   },
   {
    "duration": 115,
    "start_time": "2024-12-15T09:21:33.212Z"
   },
   {
    "duration": 192,
    "start_time": "2024-12-15T09:21:33.328Z"
   },
   {
    "duration": 103,
    "start_time": "2024-12-15T09:21:33.522Z"
   },
   {
    "duration": 233,
    "start_time": "2024-12-15T09:21:33.627Z"
   },
   {
    "duration": 24,
    "start_time": "2024-12-15T09:21:33.862Z"
   },
   {
    "duration": 35,
    "start_time": "2024-12-15T09:21:33.888Z"
   },
   {
    "duration": 6,
    "start_time": "2024-12-15T09:21:33.925Z"
   },
   {
    "duration": 49,
    "start_time": "2024-12-15T09:21:33.932Z"
   },
   {
    "duration": 37,
    "start_time": "2024-12-15T09:21:33.984Z"
   },
   {
    "duration": 26,
    "start_time": "2024-12-15T09:21:34.022Z"
   },
   {
    "duration": 28,
    "start_time": "2024-12-15T09:21:34.049Z"
   },
   {
    "duration": 39,
    "start_time": "2024-12-15T09:21:34.079Z"
   },
   {
    "duration": 53,
    "start_time": "2024-12-15T09:21:34.120Z"
   },
   {
    "duration": 51,
    "start_time": "2024-12-15T09:21:34.175Z"
   },
   {
    "duration": 23,
    "start_time": "2024-12-15T09:22:51.946Z"
   },
   {
    "duration": 22,
    "start_time": "2024-12-15T09:23:14.553Z"
   },
   {
    "duration": 3,
    "start_time": "2024-12-15T09:23:41.144Z"
   },
   {
    "duration": 59,
    "start_time": "2024-12-15T09:23:44.201Z"
   },
   {
    "duration": 4,
    "start_time": "2024-12-15T09:23:46.304Z"
   },
   {
    "duration": 15,
    "start_time": "2024-12-15T09:23:48.856Z"
   },
   {
    "duration": 11,
    "start_time": "2024-12-15T09:23:52.768Z"
   },
   {
    "duration": 10,
    "start_time": "2024-12-15T09:23:57.403Z"
   },
   {
    "duration": 4,
    "start_time": "2024-12-15T09:24:00.189Z"
   },
   {
    "duration": 5,
    "start_time": "2024-12-15T09:24:03.492Z"
   },
   {
    "duration": 22,
    "start_time": "2024-12-15T09:24:07.151Z"
   },
   {
    "duration": 7,
    "start_time": "2024-12-15T09:24:29.444Z"
   },
   {
    "duration": 12,
    "start_time": "2024-12-15T09:24:33.447Z"
   },
   {
    "duration": 24,
    "start_time": "2024-12-15T09:24:36.139Z"
   },
   {
    "duration": 17,
    "start_time": "2024-12-15T09:24:42.608Z"
   },
   {
    "duration": 17,
    "start_time": "2024-12-15T09:24:45.659Z"
   },
   {
    "duration": 113,
    "start_time": "2024-12-15T09:24:47.905Z"
   },
   {
    "duration": 617,
    "start_time": "2024-12-15T09:24:50.688Z"
   },
   {
    "duration": 504,
    "start_time": "2024-12-15T09:24:53.300Z"
   },
   {
    "duration": 107,
    "start_time": "2024-12-15T09:24:56.079Z"
   },
   {
    "duration": 196,
    "start_time": "2024-12-15T09:24:59.025Z"
   },
   {
    "duration": 325,
    "start_time": "2024-12-15T09:25:01.947Z"
   },
   {
    "duration": 20,
    "start_time": "2024-12-15T09:25:05.537Z"
   },
   {
    "duration": 25,
    "start_time": "2024-12-15T09:25:11.755Z"
   },
   {
    "duration": 23,
    "start_time": "2024-12-15T09:25:40.339Z"
   },
   {
    "duration": 25,
    "start_time": "2024-12-15T09:25:54.555Z"
   },
   {
    "duration": 25,
    "start_time": "2024-12-15T09:26:15.639Z"
   },
   {
    "duration": 25,
    "start_time": "2024-12-15T09:26:46.411Z"
   },
   {
    "duration": 23,
    "start_time": "2024-12-15T09:27:13.782Z"
   },
   {
    "duration": 24,
    "start_time": "2024-12-15T09:27:16.778Z"
   },
   {
    "duration": 29,
    "start_time": "2024-12-15T09:33:34.145Z"
   },
   {
    "duration": 16,
    "start_time": "2024-12-15T09:34:24.766Z"
   },
   {
    "duration": 12,
    "start_time": "2024-12-15T09:36:26.629Z"
   },
   {
    "duration": 10,
    "start_time": "2024-12-15T09:42:39.654Z"
   },
   {
    "duration": 15,
    "start_time": "2024-12-15T09:42:55.875Z"
   },
   {
    "duration": 142,
    "start_time": "2024-12-15T10:22:07.035Z"
   },
   {
    "duration": 200,
    "start_time": "2024-12-15T10:24:16.797Z"
   },
   {
    "duration": 106,
    "start_time": "2024-12-15T10:35:45.995Z"
   },
   {
    "duration": 205,
    "start_time": "2024-12-15T10:36:04.630Z"
   },
   {
    "duration": 205,
    "start_time": "2024-12-15T10:36:44.529Z"
   },
   {
    "duration": 205,
    "start_time": "2024-12-15T10:40:33.060Z"
   },
   {
    "duration": 403,
    "start_time": "2024-12-15T10:42:43.994Z"
   },
   {
    "duration": 357,
    "start_time": "2024-12-15T10:42:55.705Z"
   },
   {
    "duration": 296,
    "start_time": "2024-12-15T10:43:08.674Z"
   },
   {
    "duration": 164,
    "start_time": "2024-12-15T10:43:59.358Z"
   },
   {
    "duration": 23,
    "start_time": "2024-12-15T10:44:14.117Z"
   },
   {
    "duration": 220,
    "start_time": "2024-12-15T10:44:24.037Z"
   },
   {
    "duration": 223,
    "start_time": "2024-12-15T10:44:39.768Z"
   },
   {
    "duration": 207,
    "start_time": "2024-12-15T10:45:10.707Z"
   },
   {
    "duration": 591,
    "start_time": "2024-12-15T10:46:14.642Z"
   },
   {
    "duration": 172,
    "start_time": "2024-12-15T10:47:26.667Z"
   },
   {
    "duration": 339,
    "start_time": "2024-12-15T10:48:01.649Z"
   },
   {
    "duration": 11,
    "start_time": "2024-12-15T11:02:25.041Z"
   },
   {
    "duration": 44,
    "start_time": "2024-12-15T11:02:52.669Z"
   },
   {
    "duration": 18,
    "start_time": "2024-12-15T11:07:17.512Z"
   },
   {
    "duration": 22,
    "start_time": "2024-12-15T11:07:47.455Z"
   },
   {
    "duration": 96,
    "start_time": "2024-12-15T11:09:04.559Z"
   },
   {
    "duration": 15,
    "start_time": "2024-12-15T11:09:24.379Z"
   },
   {
    "duration": 46,
    "start_time": "2024-12-15T11:13:16.994Z"
   },
   {
    "duration": 36,
    "start_time": "2024-12-15T11:13:22.842Z"
   },
   {
    "duration": 39,
    "start_time": "2024-12-15T11:13:50.498Z"
   },
   {
    "duration": 37,
    "start_time": "2024-12-15T11:14:34.299Z"
   },
   {
    "duration": 209,
    "start_time": "2024-12-15T11:18:15.663Z"
   },
   {
    "duration": 19,
    "start_time": "2024-12-15T11:22:12.545Z"
   },
   {
    "duration": 208,
    "start_time": "2024-12-15T11:22:24.857Z"
   },
   {
    "duration": 13,
    "start_time": "2024-12-15T11:23:04.007Z"
   },
   {
    "duration": 14,
    "start_time": "2024-12-15T11:23:22.317Z"
   },
   {
    "duration": 13,
    "start_time": "2024-12-15T11:23:40.638Z"
   },
   {
    "duration": 182,
    "start_time": "2024-12-15T11:23:51.825Z"
   },
   {
    "duration": 217,
    "start_time": "2024-12-15T11:24:10.119Z"
   },
   {
    "duration": 194,
    "start_time": "2024-12-15T11:25:16.767Z"
   },
   {
    "duration": 228,
    "start_time": "2024-12-15T11:38:51.685Z"
   },
   {
    "duration": 231,
    "start_time": "2024-12-15T11:38:59.614Z"
   },
   {
    "duration": 10,
    "start_time": "2024-12-15T11:49:16.596Z"
   },
   {
    "duration": 13,
    "start_time": "2024-12-15T11:49:24.728Z"
   },
   {
    "duration": 158,
    "start_time": "2024-12-15T11:49:32.879Z"
   },
   {
    "duration": 168,
    "start_time": "2024-12-15T11:50:53.056Z"
   },
   {
    "duration": 203,
    "start_time": "2024-12-15T11:51:04.831Z"
   },
   {
    "duration": 16,
    "start_time": "2024-12-15T11:58:20.504Z"
   },
   {
    "duration": 237,
    "start_time": "2024-12-15T11:58:44.919Z"
   },
   {
    "duration": 125,
    "start_time": "2024-12-15T12:09:47.520Z"
   },
   {
    "duration": 283,
    "start_time": "2024-12-15T12:18:37.360Z"
   },
   {
    "duration": 301,
    "start_time": "2024-12-15T12:21:29.495Z"
   },
   {
    "duration": 6,
    "start_time": "2024-12-15T12:58:17.753Z"
   },
   {
    "duration": 5,
    "start_time": "2024-12-15T12:58:30.104Z"
   },
   {
    "duration": 7,
    "start_time": "2024-12-15T12:59:47.101Z"
   },
   {
    "duration": 4,
    "start_time": "2024-12-15T13:00:37.263Z"
   },
   {
    "duration": 114,
    "start_time": "2024-12-15T13:11:45.480Z"
   },
   {
    "duration": 360,
    "start_time": "2024-12-15T13:12:08.427Z"
   },
   {
    "duration": 9,
    "start_time": "2024-12-15T13:12:28.279Z"
   },
   {
    "duration": 14,
    "start_time": "2024-12-15T13:12:56.415Z"
   },
   {
    "duration": 501,
    "start_time": "2024-12-15T13:19:48.343Z"
   },
   {
    "duration": 532,
    "start_time": "2024-12-15T13:23:11.450Z"
   },
   {
    "duration": 509,
    "start_time": "2024-12-15T13:23:23.700Z"
   },
   {
    "duration": 516,
    "start_time": "2024-12-15T13:23:30.931Z"
   },
   {
    "duration": 522,
    "start_time": "2024-12-15T13:24:39.645Z"
   },
   {
    "duration": 524,
    "start_time": "2024-12-15T13:25:29.586Z"
   },
   {
    "duration": 527,
    "start_time": "2024-12-15T13:25:35.786Z"
   },
   {
    "duration": 14,
    "start_time": "2024-12-15T13:26:58.642Z"
   },
   {
    "duration": 53,
    "start_time": "2024-12-15T13:27:35.607Z"
   },
   {
    "duration": 607,
    "start_time": "2024-12-15T13:28:02.792Z"
   },
   {
    "duration": 14,
    "start_time": "2024-12-15T13:31:47.728Z"
   },
   {
    "duration": 4,
    "start_time": "2024-12-15T13:31:59.369Z"
   },
   {
    "duration": 5,
    "start_time": "2024-12-15T13:32:04.882Z"
   },
   {
    "duration": 5,
    "start_time": "2024-12-15T13:32:46.314Z"
   },
   {
    "duration": 32,
    "start_time": "2024-12-15T13:32:53.742Z"
   },
   {
    "duration": 34,
    "start_time": "2024-12-15T13:33:23.370Z"
   },
   {
    "duration": 31,
    "start_time": "2024-12-15T13:33:47.354Z"
   },
   {
    "duration": 31,
    "start_time": "2024-12-15T13:33:56.057Z"
   },
   {
    "duration": 43,
    "start_time": "2024-12-15T13:34:34.147Z"
   },
   {
    "duration": 428,
    "start_time": "2024-12-15T13:35:16.446Z"
   },
   {
    "duration": 415,
    "start_time": "2024-12-15T13:43:22.791Z"
   },
   {
    "duration": 306,
    "start_time": "2024-12-15T13:44:59.914Z"
   },
   {
    "duration": 304,
    "start_time": "2024-12-15T13:45:23.587Z"
   },
   {
    "duration": 310,
    "start_time": "2024-12-15T13:46:15.296Z"
   },
   {
    "duration": 306,
    "start_time": "2024-12-15T13:47:26.715Z"
   },
   {
    "duration": 462,
    "start_time": "2024-12-15T13:48:00.203Z"
   },
   {
    "duration": 326,
    "start_time": "2024-12-15T13:48:17.469Z"
   },
   {
    "duration": 206,
    "start_time": "2024-12-15T13:48:24.453Z"
   },
   {
    "duration": 266,
    "start_time": "2024-12-15T13:48:31.813Z"
   },
   {
    "duration": 228,
    "start_time": "2024-12-15T13:48:37.380Z"
   },
   {
    "duration": 231,
    "start_time": "2024-12-15T13:48:42.931Z"
   },
   {
    "duration": 271,
    "start_time": "2024-12-15T13:48:52.109Z"
   },
   {
    "duration": 159,
    "start_time": "2024-12-15T13:48:58.611Z"
   },
   {
    "duration": 228,
    "start_time": "2024-12-15T13:49:06.069Z"
   },
   {
    "duration": 134,
    "start_time": "2024-12-15T13:49:14.614Z"
   },
   {
    "duration": 249,
    "start_time": "2024-12-15T13:49:20.745Z"
   },
   {
    "duration": 251,
    "start_time": "2024-12-15T13:49:31.472Z"
   },
   {
    "duration": 355,
    "start_time": "2024-12-15T13:49:46.434Z"
   },
   {
    "duration": 146,
    "start_time": "2024-12-15T13:49:51.626Z"
   },
   {
    "duration": 3,
    "start_time": "2024-12-15T13:50:00.186Z"
   },
   {
    "duration": 57,
    "start_time": "2024-12-15T13:50:02.159Z"
   },
   {
    "duration": 6,
    "start_time": "2024-12-15T13:50:04.387Z"
   },
   {
    "duration": 16,
    "start_time": "2024-12-15T13:50:06.646Z"
   },
   {
    "duration": 10,
    "start_time": "2024-12-15T13:50:09.879Z"
   },
   {
    "duration": 11,
    "start_time": "2024-12-15T13:50:12.957Z"
   },
   {
    "duration": 5,
    "start_time": "2024-12-15T13:50:15.240Z"
   },
   {
    "duration": 23,
    "start_time": "2024-12-15T13:50:18.059Z"
   },
   {
    "duration": 6,
    "start_time": "2024-12-15T13:50:24.319Z"
   },
   {
    "duration": 13,
    "start_time": "2024-12-15T13:50:26.916Z"
   },
   {
    "duration": 24,
    "start_time": "2024-12-15T13:50:29.249Z"
   },
   {
    "duration": 17,
    "start_time": "2024-12-15T13:50:32.959Z"
   },
   {
    "duration": 17,
    "start_time": "2024-12-15T13:50:35.883Z"
   },
   {
    "duration": 149,
    "start_time": "2024-12-15T13:50:39.331Z"
   },
   {
    "duration": 560,
    "start_time": "2024-12-15T13:50:42.581Z"
   },
   {
    "duration": 148,
    "start_time": "2024-12-15T13:50:46.918Z"
   },
   {
    "duration": 231,
    "start_time": "2024-12-15T13:50:49.522Z"
   },
   {
    "duration": 128,
    "start_time": "2024-12-15T13:50:53.083Z"
   },
   {
    "duration": 414,
    "start_time": "2024-12-15T13:50:55.471Z"
   },
   {
    "duration": 22,
    "start_time": "2024-12-15T13:50:58.693Z"
   },
   {
    "duration": 25,
    "start_time": "2024-12-15T13:51:01.768Z"
   },
   {
    "duration": 15,
    "start_time": "2024-12-15T13:51:05.060Z"
   },
   {
    "duration": 14,
    "start_time": "2024-12-15T13:51:07.280Z"
   },
   {
    "duration": 229,
    "start_time": "2024-12-15T13:51:10.618Z"
   },
   {
    "duration": 229,
    "start_time": "2024-12-15T13:51:13.692Z"
   },
   {
    "duration": 187,
    "start_time": "2024-12-15T13:51:16.016Z"
   },
   {
    "duration": 194,
    "start_time": "2024-12-15T13:51:18.461Z"
   },
   {
    "duration": 326,
    "start_time": "2024-12-15T13:51:21.018Z"
   },
   {
    "duration": 5,
    "start_time": "2024-12-15T13:51:46.024Z"
   },
   {
    "duration": 19,
    "start_time": "2024-12-15T13:51:48.254Z"
   },
   {
    "duration": 446,
    "start_time": "2024-12-15T13:51:50.626Z"
   },
   {
    "duration": 354,
    "start_time": "2024-12-15T13:53:43.873Z"
   },
   {
    "duration": 563,
    "start_time": "2024-12-15T13:54:15.314Z"
   },
   {
    "duration": 228,
    "start_time": "2024-12-15T14:01:22.831Z"
   },
   {
    "duration": 4,
    "start_time": "2024-12-15T14:07:11.599Z"
   },
   {
    "duration": 92,
    "start_time": "2024-12-15T14:07:11.605Z"
   },
   {
    "duration": 5,
    "start_time": "2024-12-15T14:07:11.699Z"
   },
   {
    "duration": 24,
    "start_time": "2024-12-15T14:07:11.706Z"
   },
   {
    "duration": 12,
    "start_time": "2024-12-15T14:07:11.732Z"
   },
   {
    "duration": 24,
    "start_time": "2024-12-15T14:07:11.746Z"
   },
   {
    "duration": 19,
    "start_time": "2024-12-15T14:07:11.772Z"
   },
   {
    "duration": 48,
    "start_time": "2024-12-15T14:07:11.793Z"
   },
   {
    "duration": 15,
    "start_time": "2024-12-15T14:07:11.844Z"
   },
   {
    "duration": 15,
    "start_time": "2024-12-15T14:07:11.861Z"
   },
   {
    "duration": 28,
    "start_time": "2024-12-15T14:07:11.878Z"
   },
   {
    "duration": 18,
    "start_time": "2024-12-15T14:07:11.908Z"
   },
   {
    "duration": 94,
    "start_time": "2024-12-15T14:07:11.928Z"
   },
   {
    "duration": 159,
    "start_time": "2024-12-15T14:07:12.024Z"
   },
   {
    "duration": 619,
    "start_time": "2024-12-15T14:07:12.186Z"
   },
   {
    "duration": 167,
    "start_time": "2024-12-15T14:07:12.807Z"
   },
   {
    "duration": 267,
    "start_time": "2024-12-15T14:07:12.976Z"
   },
   {
    "duration": 170,
    "start_time": "2024-12-15T14:07:13.246Z"
   },
   {
    "duration": 375,
    "start_time": "2024-12-15T14:07:13.418Z"
   },
   {
    "duration": 23,
    "start_time": "2024-12-15T14:07:13.794Z"
   },
   {
    "duration": 26,
    "start_time": "2024-12-15T14:07:13.819Z"
   },
   {
    "duration": 13,
    "start_time": "2024-12-15T14:07:13.871Z"
   },
   {
    "duration": 16,
    "start_time": "2024-12-15T14:07:13.886Z"
   },
   {
    "duration": 320,
    "start_time": "2024-12-15T14:07:13.905Z"
   },
   {
    "duration": 289,
    "start_time": "2024-12-15T14:07:14.227Z"
   },
   {
    "duration": 220,
    "start_time": "2024-12-15T14:07:14.518Z"
   },
   {
    "duration": 221,
    "start_time": "2024-12-15T14:07:14.739Z"
   },
   {
    "duration": 335,
    "start_time": "2024-12-15T14:07:14.970Z"
   },
   {
    "duration": 5,
    "start_time": "2024-12-15T14:07:15.307Z"
   },
   {
    "duration": 43,
    "start_time": "2024-12-15T14:07:15.313Z"
   },
   {
    "duration": 501,
    "start_time": "2024-12-15T14:07:15.357Z"
   },
   {
    "duration": 2,
    "start_time": "2024-12-15T14:07:15.860Z"
   },
   {
    "duration": 4,
    "start_time": "2024-12-15T14:07:15.870Z"
   },
   {
    "duration": 4,
    "start_time": "2024-12-15T14:07:15.876Z"
   },
   {
    "duration": 5,
    "start_time": "2024-12-15T14:49:07.168Z"
   },
   {
    "duration": 6,
    "start_time": "2024-12-15T15:05:24.641Z"
   },
   {
    "duration": 5,
    "start_time": "2024-12-15T15:06:11.386Z"
   },
   {
    "duration": 10,
    "start_time": "2024-12-15T15:11:26.287Z"
   },
   {
    "duration": 78,
    "start_time": "2024-12-15T15:12:12.877Z"
   },
   {
    "duration": 3159,
    "start_time": "2024-12-15T15:12:59.846Z"
   },
   {
    "duration": 103,
    "start_time": "2024-12-15T15:13:21.358Z"
   },
   {
    "duration": 6,
    "start_time": "2024-12-15T15:13:26.042Z"
   },
   {
    "duration": 87,
    "start_time": "2024-12-15T15:13:31.279Z"
   },
   {
    "duration": 91,
    "start_time": "2024-12-15T15:15:24.351Z"
   },
   {
    "duration": 300,
    "start_time": "2024-12-15T15:19:03.811Z"
   },
   {
    "duration": 285,
    "start_time": "2024-12-15T15:23:08.316Z"
   },
   {
    "duration": 75,
    "start_time": "2024-12-15T15:23:22.186Z"
   },
   {
    "duration": 310,
    "start_time": "2024-12-15T15:23:24.946Z"
   },
   {
    "duration": 308,
    "start_time": "2024-12-15T15:23:46.612Z"
   },
   {
    "duration": 442,
    "start_time": "2024-12-15T15:28:24.093Z"
   },
   {
    "duration": 457,
    "start_time": "2024-12-15T15:29:00.118Z"
   },
   {
    "duration": 353,
    "start_time": "2024-12-15T15:29:34.209Z"
   },
   {
    "duration": 291,
    "start_time": "2024-12-15T15:29:54.659Z"
   },
   {
    "duration": 229,
    "start_time": "2024-12-15T15:30:11.206Z"
   },
   {
    "duration": 228,
    "start_time": "2024-12-15T15:30:53.763Z"
   },
   {
    "duration": 223,
    "start_time": "2024-12-15T15:31:21.803Z"
   },
   {
    "duration": 234,
    "start_time": "2024-12-15T15:31:32.638Z"
   },
   {
    "duration": 260,
    "start_time": "2024-12-15T15:32:10.333Z"
   },
   {
    "duration": 222,
    "start_time": "2024-12-15T15:32:16.723Z"
   },
   {
    "duration": 223,
    "start_time": "2024-12-15T15:32:24.998Z"
   },
   {
    "duration": 254,
    "start_time": "2024-12-15T15:32:59.228Z"
   },
   {
    "duration": 291,
    "start_time": "2024-12-15T15:33:34.261Z"
   },
   {
    "duration": 346,
    "start_time": "2024-12-15T15:34:11.432Z"
   },
   {
    "duration": 329,
    "start_time": "2024-12-15T15:34:31.579Z"
   },
   {
    "duration": 3,
    "start_time": "2024-12-15T15:34:46.017Z"
   },
   {
    "duration": 62,
    "start_time": "2024-12-15T15:34:46.027Z"
   },
   {
    "duration": 4,
    "start_time": "2024-12-15T15:34:46.091Z"
   },
   {
    "duration": 33,
    "start_time": "2024-12-15T15:34:46.097Z"
   },
   {
    "duration": 9,
    "start_time": "2024-12-15T15:34:46.131Z"
   },
   {
    "duration": 10,
    "start_time": "2024-12-15T15:34:46.142Z"
   },
   {
    "duration": 18,
    "start_time": "2024-12-15T15:34:46.153Z"
   },
   {
    "duration": 28,
    "start_time": "2024-12-15T15:34:46.173Z"
   },
   {
    "duration": 6,
    "start_time": "2024-12-15T15:34:46.202Z"
   },
   {
    "duration": 13,
    "start_time": "2024-12-15T15:34:46.209Z"
   },
   {
    "duration": 57,
    "start_time": "2024-12-15T15:34:46.224Z"
   },
   {
    "duration": 17,
    "start_time": "2024-12-15T15:34:46.283Z"
   },
   {
    "duration": 99,
    "start_time": "2024-12-15T15:34:46.302Z"
   },
   {
    "duration": 159,
    "start_time": "2024-12-15T15:34:46.402Z"
   },
   {
    "duration": 588,
    "start_time": "2024-12-15T15:34:46.565Z"
   },
   {
    "duration": 160,
    "start_time": "2024-12-15T15:34:47.156Z"
   },
   {
    "duration": 259,
    "start_time": "2024-12-15T15:34:47.318Z"
   },
   {
    "duration": 142,
    "start_time": "2024-12-15T15:34:47.578Z"
   },
   {
    "duration": 398,
    "start_time": "2024-12-15T15:34:47.722Z"
   },
   {
    "duration": 23,
    "start_time": "2024-12-15T15:34:48.121Z"
   },
   {
    "duration": 38,
    "start_time": "2024-12-15T15:34:48.146Z"
   },
   {
    "duration": 12,
    "start_time": "2024-12-15T15:34:48.186Z"
   },
   {
    "duration": 14,
    "start_time": "2024-12-15T15:34:48.199Z"
   },
   {
    "duration": 268,
    "start_time": "2024-12-15T15:34:48.215Z"
   },
   {
    "duration": 258,
    "start_time": "2024-12-15T15:34:48.484Z"
   },
   {
    "duration": 219,
    "start_time": "2024-12-15T15:34:48.745Z"
   },
   {
    "duration": 229,
    "start_time": "2024-12-15T15:34:48.971Z"
   },
   {
    "duration": 335,
    "start_time": "2024-12-15T15:34:49.202Z"
   },
   {
    "duration": 5,
    "start_time": "2024-12-15T15:34:49.539Z"
   },
   {
    "duration": 39,
    "start_time": "2024-12-15T15:34:49.547Z"
   },
   {
    "duration": 460,
    "start_time": "2024-12-15T15:34:49.589Z"
   },
   {
    "duration": 6,
    "start_time": "2024-12-15T15:34:50.051Z"
   },
   {
    "duration": 83,
    "start_time": "2024-12-15T15:34:50.070Z"
   },
   {
    "duration": 310,
    "start_time": "2024-12-15T15:34:50.155Z"
   },
   {
    "duration": 300,
    "start_time": "2024-12-15T15:43:48.676Z"
   },
   {
    "duration": 2,
    "start_time": "2024-12-15T15:44:33.035Z"
   },
   {
    "duration": 70,
    "start_time": "2024-12-15T15:44:33.040Z"
   },
   {
    "duration": 5,
    "start_time": "2024-12-15T15:44:33.112Z"
   },
   {
    "duration": 42,
    "start_time": "2024-12-15T15:44:33.119Z"
   },
   {
    "duration": 11,
    "start_time": "2024-12-15T15:44:33.163Z"
   },
   {
    "duration": 20,
    "start_time": "2024-12-15T15:44:33.175Z"
   },
   {
    "duration": 5,
    "start_time": "2024-12-15T15:44:33.197Z"
   },
   {
    "duration": 35,
    "start_time": "2024-12-15T15:44:33.204Z"
   },
   {
    "duration": 9,
    "start_time": "2024-12-15T15:44:33.242Z"
   },
   {
    "duration": 14,
    "start_time": "2024-12-15T15:44:33.270Z"
   },
   {
    "duration": 23,
    "start_time": "2024-12-15T15:44:33.286Z"
   },
   {
    "duration": 16,
    "start_time": "2024-12-15T15:44:33.311Z"
   },
   {
    "duration": 87,
    "start_time": "2024-12-15T15:44:33.329Z"
   },
   {
    "duration": 159,
    "start_time": "2024-12-15T15:44:33.417Z"
   },
   {
    "duration": 728,
    "start_time": "2024-12-15T15:44:33.577Z"
   },
   {
    "duration": 164,
    "start_time": "2024-12-15T15:44:34.307Z"
   },
   {
    "duration": 251,
    "start_time": "2024-12-15T15:44:34.473Z"
   },
   {
    "duration": 149,
    "start_time": "2024-12-15T15:44:34.726Z"
   },
   {
    "duration": 287,
    "start_time": "2024-12-15T15:44:34.877Z"
   },
   {
    "duration": 22,
    "start_time": "2024-12-15T15:44:35.170Z"
   },
   {
    "duration": 25,
    "start_time": "2024-12-15T15:44:35.194Z"
   },
   {
    "duration": 13,
    "start_time": "2024-12-15T15:44:35.220Z"
   },
   {
    "duration": 44,
    "start_time": "2024-12-15T15:44:35.235Z"
   },
   {
    "duration": 281,
    "start_time": "2024-12-15T15:44:35.284Z"
   },
   {
    "duration": 310,
    "start_time": "2024-12-15T15:44:35.571Z"
   },
   {
    "duration": 241,
    "start_time": "2024-12-15T15:44:35.883Z"
   },
   {
    "duration": 387,
    "start_time": "2024-12-15T15:44:36.125Z"
   },
   {
    "duration": 425,
    "start_time": "2024-12-15T15:44:36.514Z"
   },
   {
    "duration": 5,
    "start_time": "2024-12-15T15:44:36.941Z"
   },
   {
    "duration": 33,
    "start_time": "2024-12-15T15:44:36.948Z"
   },
   {
    "duration": 504,
    "start_time": "2024-12-15T15:44:36.984Z"
   },
   {
    "duration": 7,
    "start_time": "2024-12-15T15:44:37.491Z"
   },
   {
    "duration": 114,
    "start_time": "2024-12-15T15:44:37.500Z"
   },
   {
    "duration": 346,
    "start_time": "2024-12-15T15:44:37.616Z"
   },
   {
    "duration": 57,
    "start_time": "2024-12-16T08:13:09.988Z"
   },
   {
    "duration": 1281,
    "start_time": "2024-12-16T08:13:17.016Z"
   },
   {
    "duration": 233,
    "start_time": "2024-12-16T08:13:19.766Z"
   },
   {
    "duration": 63,
    "start_time": "2024-12-16T08:32:31.670Z"
   },
   {
    "duration": 53,
    "start_time": "2025-01-12T14:03:34.518Z"
   },
   {
    "duration": 1878,
    "start_time": "2025-01-12T14:03:39.676Z"
   },
   {
    "duration": 150,
    "start_time": "2025-01-12T14:03:41.629Z"
   }
  ],
  "kernelspec": {
   "display_name": "Python 3 (ipykernel)",
   "language": "python",
   "name": "python3"
  },
  "language_info": {
   "codemirror_mode": {
    "name": "ipython",
    "version": 3
   },
   "file_extension": ".py",
   "mimetype": "text/x-python",
   "name": "python",
   "nbconvert_exporter": "python",
   "pygments_lexer": "ipython3",
   "version": "3.9.5"
  },
  "toc": {
   "base_numbering": 1,
   "nav_menu": {},
   "number_sections": true,
   "sideBar": true,
   "skip_h1_title": true,
   "title_cell": "Table of Contents",
   "title_sidebar": "Contents",
   "toc_cell": false,
   "toc_position": {
    "height": "calc(100% - 180px)",
    "left": "10px",
    "top": "150px",
    "width": "301.449px"
   },
   "toc_section_display": true,
   "toc_window_display": false
  }
 },
 "nbformat": 4,
 "nbformat_minor": 2
}
